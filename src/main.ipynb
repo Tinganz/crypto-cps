{
 "cells": [
  {
   "cell_type": "markdown",
   "metadata": {},
   "source": [
    "# Safety Critical CPS with Partial Authentication"
   ]
  },
  {
   "cell_type": "code",
   "execution_count": 4,
   "metadata": {},
   "outputs": [],
   "source": [
    "# Add current directory to the LOAD_PATH variable, so our other files can be detected\n",
    "push!(LOAD_PATH, \".\")\n",
    "using Benchmarks"
   ]
  },
  {
   "cell_type": "markdown",
   "metadata": {},
   "source": [
    "## Benchmarks"
   ]
  },
  {
   "cell_type": "markdown",
   "metadata": {},
   "source": [
    "We use a number of control systems for the evaluation of our methods. They are outlined below:"
   ]
  },
  {
   "cell_type": "code",
   "execution_count": 9,
   "metadata": {},
   "outputs": [
    {
     "data": {
      "text/plain": [
       "Dict{Symbol, ControlSystemsBase.StateSpace{ControlSystemsBase.Continuous, Float64}} with 6 entries:\n",
       "  :RCN => StateSpace{Continuous, Float64}…\n",
       "  :DCM => StateSpace{Continuous, Float64}…\n",
       "  :CC2 => StateSpace{Continuous, Float64}…\n",
       "  :F1T => StateSpace{Continuous, Float64}…\n",
       "  :CC1 => StateSpace{Continuous, Float64}…\n",
       "  :CSS => StateSpace{Continuous, Float64}…"
      ]
     },
     "metadata": {},
     "output_type": "display_data"
    },
    {
     "data": {
      "text/plain": [
       "ControlSystemsBase.StateSpace{ControlSystemsBase.Continuous, Float64}\n",
       "A = \n",
       " -6.0   1.0\n",
       "  0.2  -0.7\n",
       "B = \n",
       " 5.0\n",
       " 0.5\n",
       "C = \n",
       " 1.0  0.0\n",
       " 0.0  1.0\n",
       "D = \n",
       " 0.0\n",
       " 0.0\n",
       "\n",
       "Continuous-time state-space model"
      ]
     },
     "metadata": {},
     "output_type": "display_data"
    }
   ],
   "source": [
    "display(benchmarks)\n",
    "display(benchmarks[:RCN])\n",
    "display(c2d)"
   ]
  },
  {
   "cell_type": "markdown",
   "metadata": {},
   "source": [
    "## Parameters"
   ]
  },
  {
   "cell_type": "code",
   "execution_count": null,
   "metadata": {},
   "outputs": [],
   "source": [
    "# Time horizon\n",
    "H = 100\n",
    "\n",
    "# Period\n",
    "p = 0.02\n",
    "\n",
    "# Initial state\n",
    "x0 = 1.\n",
    "u0 = 0."
   ]
  }
 ],
 "metadata": {
  "kernelspec": {
   "display_name": "Julia 1.10.1",
   "language": "julia",
   "name": "julia-1.10"
  },
  "language_info": {
   "file_extension": ".jl",
   "mimetype": "application/julia",
   "name": "julia",
   "version": "1.10.1"
  }
 },
 "nbformat": 4,
 "nbformat_minor": 2
}
