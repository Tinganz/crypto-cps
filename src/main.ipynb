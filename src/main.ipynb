{
 "cells": [
  {
   "cell_type": "markdown",
   "metadata": {},
   "source": [
    "# Safety Critical CPS with Partial Authentication"
   ]
  },
  {
   "cell_type": "code",
   "execution_count": 2,
   "metadata": {},
   "outputs": [],
   "source": [
    "# Add current directory to the LOAD_PATH variable, so our other files can be detected\n",
    "push!(LOAD_PATH, \".\")\n",
    "using Benchmarks\n",
    "using ControlSystemsBase\n",
    "using Plots\n",
    "\n",
    "using ControlTimingSafety"
   ]
  },
  {
   "attachments": {},
   "cell_type": "markdown",
   "metadata": {},
   "source": [
    "## Logical Execution Time (LET) paradigm\n",
    "\n",
    "The LET paradigm assumes that the control input $u$ is always applied at the start of next period. I.e., the sensor-to-actuator delay is equal to the period.\n",
    "\n",
    "$$\n",
    "\n",
    "$$"
   ]
  },
  {
   "cell_type": "markdown",
   "metadata": {},
   "source": [
    "## Benchmarks"
   ]
  },
  {
   "cell_type": "markdown",
   "metadata": {},
   "source": [
    "We use a number of control systems for the evaluation of our methods. They are outlined below:"
   ]
  },
  {
   "cell_type": "code",
   "execution_count": 7,
   "metadata": {},
   "outputs": [
    {
     "data": {
      "text/plain": [
       "Dict{Symbol, ControlSystemsBase.StateSpace{ControlSystemsBase.Continuous, Float64}} with 6 entries:\n",
       "  :RCN => StateSpace{Continuous, Float64}…\n",
       "  :DCM => StateSpace{Continuous, Float64}…\n",
       "  :CC2 => StateSpace{Continuous, Float64}…\n",
       "  :F1T => StateSpace{Continuous, Float64}…\n",
       "  :CC1 => StateSpace{Continuous, Float64}…\n",
       "  :CSS => StateSpace{Continuous, Float64}…"
      ]
     },
     "metadata": {},
     "output_type": "display_data"
    },
    {
     "data": {
      "text/plain": [
       "ControlSystemsBase.StateSpace{ControlSystemsBase.Continuous, Float64}\n",
       "A = \n",
       " -6.0   1.0\n",
       "  0.2  -0.7\n",
       "B = \n",
       " 5.0\n",
       " 0.5\n",
       "C = \n",
       " 1.0  0.0\n",
       " 0.0  1.0\n",
       "D = \n",
       " 0.0\n",
       " 0.0\n",
       "\n",
       "Continuous-time state-space model"
      ]
     },
     "metadata": {},
     "output_type": "display_data"
    }
   ],
   "source": [
    "display(benchmarks)\n",
    "display(benchmarks[:RCN])"
   ]
  },
  {
   "cell_type": "markdown",
   "metadata": {},
   "source": [
    "## Parameters"
   ]
  },
  {
   "cell_type": "code",
   "execution_count": 5,
   "metadata": {},
   "outputs": [
    {
     "data": {
      "text/plain": [
       "0.0"
      ]
     },
     "metadata": {},
     "output_type": "display_data"
    }
   ],
   "source": [
    "# Time horizon\n",
    "H = 100\n",
    "\n",
    "# Period\n",
    "h = 0.02\n",
    "\n",
    "# Initial state\n",
    "x0 = 1.\n",
    "u0 = 0."
   ]
  },
  {
   "cell_type": "code",
   "execution_count": 6,
   "metadata": {},
   "outputs": [
    {
     "data": {
      "text/plain": [
       "ControlSystemsBase.SimResult{Matrix{Float64}, StepRangeLen{Float64, Base.TwicePrecision{Float64}, Base.TwicePrecision{Float64}, Int64}, Matrix{Float64}, Matrix{Float64}, StateSpace{Discrete{Float64}, Float64}}([1.0 0.9056701124881593 … 0.1858914927358751 0.18418489704231766; 1.0 0.9898782131470013 … 0.4130122524466464 0.4092242019680062], 0.0:0.02:2.0, [1.0 0.9056701124881593 … 0.1858914927358751 0.18418489704231766; 1.0 0.9898782131470013 … 0.4130122524466464 0.4092242019680062; 0.0 0.3791812235305698 … 0.1227441014701108 0.12161801817396174], [0.3791812235305698 0.36890783090229545 … 0.12161801817396174 0.12050229009254892], StateSpace{Discrete{Float64}, Float64}\n",
       "A = \n",
       " 0.8869572012306388   0.01871291125752045  0.09432988751184078\n",
       " 0.00374258225150409  0.9861356308954972   0.010121786852998745\n",
       " 0.0                  0.0                  0.0\n",
       "B = \n",
       " 0.0\n",
       " 0.0\n",
       " 1.0\n",
       "C = \n",
       " 1.0  0.0  0.0\n",
       " 0.0  1.0  0.0\n",
       "D = \n",
       " 0.0\n",
       " 0.0\n",
       "\n",
       "Sample Time: 0.02 (seconds)\n",
       "Discrete-time state-space model)"
      ]
     },
     "metadata": {},
     "output_type": "display_data"
    }
   ],
   "source": [
    "sys = benchmarks[:RCN]\n",
    "sysda = Benchmarks.c2da(sys, h)\n",
    "\n",
    "K = delay_lqr(sys, h)\n",
    "u = (x, t) -> K*x\n",
    "\n",
    "y, t, x, u = lsim(sysda, u, 0:h:2, x0=[fill(x0, size(sys.A, 1)); u0])"
   ]
  },
  {
   "cell_type": "code",
   "execution_count": 31,
   "metadata": {},
   "outputs": [
    {
     "data": {
      "text/plain": [
       "3-element Vector{Float64}:\n",
       " 1.0\n",
       " 1.0\n",
       " 0.0"
      ]
     },
     "metadata": {},
     "output_type": "display_data"
    }
   ],
   "source": [
    "[fill(x0, size(sys.A, 1)); u0]"
   ]
  },
  {
   "cell_type": "code",
   "execution_count": 7,
   "metadata": {},
   "outputs": [
    {
     "data": {
      "text/plain": [
       "Automaton(AbstractMatrix{Float64}[[0.8869572012306388 0.01871291125752045 0.09432988751184078; 0.00374258225150409 0.9861356308954972 0.010121786852998745; -0.1646400858200726 -0.2145411377104972 -0.019591233302667623], [0.8869572012306388 0.01871291125752045 0.09432988751184078; 0.00374258225150409 0.9861356308954972 0.010121786852998745; 0.0 0.0 1.0]], Union{Missing, Int64}[1 1], Union{Missing, Int64}[1 2], 1, [1.0 0.0 0.0; 0.0 1.0 0.0])"
      ]
     },
     "metadata": {},
     "output_type": "display_data"
    }
   ],
   "source": [
    "a = hold_kill(c2d(sys, h), delay_lqr(sys, h))"
   ]
  }
 ],
 "metadata": {
  "kernelspec": {
   "display_name": "Julia 1.10.0",
   "language": "julia",
   "name": "julia-1.10"
  },
  "language_info": {
   "file_extension": ".jl",
   "mimetype": "application/julia",
   "name": "julia",
   "version": "1.10.0"
  }
 },
 "nbformat": 4,
 "nbformat_minor": 2
}
