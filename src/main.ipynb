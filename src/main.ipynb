{
 "cells": [
  {
   "cell_type": "markdown",
   "metadata": {},
   "source": [
    "# Safety Critical CPS with Partial Authentication"
   ]
  },
  {
   "cell_type": "code",
   "execution_count": 17,
   "metadata": {},
   "outputs": [],
   "source": [
    "# Add current directory to the LOAD_PATH variable, so our other files can be detected\n",
    "push!(LOAD_PATH, \".\")\n",
    "using Benchmarks\n",
    "using ControlSystemsBase\n",
    "using Plots"
   ]
  },
  {
   "cell_type": "markdown",
   "metadata": {},
   "source": [
    "## Benchmarks"
   ]
  },
  {
   "cell_type": "markdown",
   "metadata": {},
   "source": [
    "We use a number of control systems for the evaluation of our methods. They are outlined below:"
   ]
  },
  {
   "cell_type": "code",
   "execution_count": 7,
   "metadata": {},
   "outputs": [
    {
     "data": {
      "text/plain": [
       "Dict{Symbol, ControlSystemsBase.StateSpace{ControlSystemsBase.Continuous, Float64}} with 6 entries:\n",
       "  :RCN => StateSpace{Continuous, Float64}…\n",
       "  :DCM => StateSpace{Continuous, Float64}…\n",
       "  :CC2 => StateSpace{Continuous, Float64}…\n",
       "  :F1T => StateSpace{Continuous, Float64}…\n",
       "  :CC1 => StateSpace{Continuous, Float64}…\n",
       "  :CSS => StateSpace{Continuous, Float64}…"
      ]
     },
     "metadata": {},
     "output_type": "display_data"
    },
    {
     "data": {
      "text/plain": [
       "ControlSystemsBase.StateSpace{ControlSystemsBase.Continuous, Float64}\n",
       "A = \n",
       " -6.0   1.0\n",
       "  0.2  -0.7\n",
       "B = \n",
       " 5.0\n",
       " 0.5\n",
       "C = \n",
       " 1.0  0.0\n",
       " 0.0  1.0\n",
       "D = \n",
       " 0.0\n",
       " 0.0\n",
       "\n",
       "Continuous-time state-space model"
      ]
     },
     "metadata": {},
     "output_type": "display_data"
    }
   ],
   "source": [
    "display(benchmarks)\n",
    "display(benchmarks[:RCN])"
   ]
  },
  {
   "cell_type": "markdown",
   "metadata": {},
   "source": [
    "## Parameters"
   ]
  },
  {
   "cell_type": "code",
   "execution_count": 11,
   "metadata": {},
   "outputs": [
    {
     "data": {
      "text/plain": [
       "0.0"
      ]
     },
     "metadata": {},
     "output_type": "display_data"
    }
   ],
   "source": [
    "# Time horizon\n",
    "H = 100\n",
    "\n",
    "# Period\n",
    "h = 0.02\n",
    "\n",
    "# Initial state\n",
    "x0 = 1.\n",
    "u0 = 0."
   ]
  },
  {
   "cell_type": "code",
   "execution_count": 35,
   "metadata": {},
   "outputs": [
    {
     "ename": "ErrorException",
     "evalue": "invalid redefinition of constant Main.u",
     "output_type": "error",
     "traceback": [
      "invalid redefinition of constant Main.u\n",
      "\n",
      "Stacktrace:\n",
      " [1] top-level scope\n",
      "   @ ~/Projects/crypto-cps/src/main.ipynb:5"
     ]
    }
   ],
   "source": [
    "sys = benchmarks[:RCN]\n",
    "sysda = Benchmarks.c2da(sys, h)\n",
    "\n",
    "K = delay_lqr(sys, h)\n",
    "u = (x, t) -> K*x\n",
    "\n",
    "y, t, x, u = lsim(sysda, u, 0:h:2, x0=[fill(x0, size(sys.A, 1)); u0])"
   ]
  },
  {
   "cell_type": "code",
   "execution_count": 31,
   "metadata": {},
   "outputs": [
    {
     "data": {
      "text/plain": [
       "3-element Vector{Float64}:\n",
       " 1.0\n",
       " 1.0\n",
       " 0.0"
      ]
     },
     "metadata": {},
     "output_type": "display_data"
    }
   ],
   "source": [
    "[fill(x0, size(sys.A, 1)); u0]"
   ]
  }
 ],
 "metadata": {
  "kernelspec": {
   "display_name": "Julia 1.10.0",
   "language": "julia",
   "name": "julia-1.10"
  },
  "language_info": {
   "file_extension": ".jl",
   "mimetype": "application/julia",
   "name": "julia",
   "version": "1.10.0"
  }
 },
 "nbformat": 4,
 "nbformat_minor": 2
}
